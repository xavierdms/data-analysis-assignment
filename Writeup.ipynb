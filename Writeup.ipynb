{
 "cells": [
  {
   "cell_type": "code",
   "execution_count": 79,
   "metadata": {},
   "outputs": [],
   "source": [
    "import pandas as pd\n",
    "import numpy as np\n",
    "import scipy as sp\n",
    "import matplotlib.pyplot as plt\n",
    "import seaborn as sns"
   ]
  },
  {
   "cell_type": "code",
   "execution_count": 70,
   "metadata": {},
   "outputs": [],
   "source": [
    "# Modify dataset to include test scores\n",
    "%run -i calc_score.py"
   ]
  },
  {
   "cell_type": "markdown",
   "metadata": {},
   "source": [
    "### Dataset"
   ]
  },
  {
   "cell_type": "code",
   "execution_count": 78,
   "metadata": {},
   "outputs": [
    {
     "data": {
      "text/html": [
       "<div>\n",
       "<style scoped>\n",
       "    .dataframe tbody tr th:only-of-type {\n",
       "        vertical-align: middle;\n",
       "    }\n",
       "\n",
       "    .dataframe tbody tr th {\n",
       "        vertical-align: top;\n",
       "    }\n",
       "\n",
       "    .dataframe thead th {\n",
       "        text-align: right;\n",
       "    }\n",
       "</style>\n",
       "<table border=\"1\" class=\"dataframe\">\n",
       "  <thead>\n",
       "    <tr style=\"text-align: right;\">\n",
       "      <th></th>\n",
       "      <th>Participant Code</th>\n",
       "      <th>Term</th>\n",
       "      <th>Test</th>\n",
       "      <th>Instructor</th>\n",
       "      <th>LetterGrade</th>\n",
       "      <th>PercentGrade</th>\n",
       "      <th>Test Score</th>\n",
       "    </tr>\n",
       "  </thead>\n",
       "  <tbody>\n",
       "    <tr>\n",
       "      <th>73</th>\n",
       "      <td>3</td>\n",
       "      <td>1</td>\n",
       "      <td>Post</td>\n",
       "      <td>B</td>\n",
       "      <td>F</td>\n",
       "      <td>28.76</td>\n",
       "      <td>0.00</td>\n",
       "    </tr>\n",
       "    <tr>\n",
       "      <th>145</th>\n",
       "      <td>79</td>\n",
       "      <td>2</td>\n",
       "      <td>Pre</td>\n",
       "      <td>B</td>\n",
       "      <td>B+</td>\n",
       "      <td>86.68</td>\n",
       "      <td>0.00</td>\n",
       "    </tr>\n",
       "    <tr>\n",
       "      <th>75</th>\n",
       "      <td>81</td>\n",
       "      <td>1</td>\n",
       "      <td>Post</td>\n",
       "      <td>B</td>\n",
       "      <td>A</td>\n",
       "      <td>93.88</td>\n",
       "      <td>0.00</td>\n",
       "    </tr>\n",
       "    <tr>\n",
       "      <th>81</th>\n",
       "      <td>19</td>\n",
       "      <td>1</td>\n",
       "      <td>Pre</td>\n",
       "      <td>B</td>\n",
       "      <td>A</td>\n",
       "      <td>96.09</td>\n",
       "      <td>0.00</td>\n",
       "    </tr>\n",
       "    <tr>\n",
       "      <th>85</th>\n",
       "      <td>44</td>\n",
       "      <td>1</td>\n",
       "      <td>Pre</td>\n",
       "      <td>B</td>\n",
       "      <td>C-</td>\n",
       "      <td>71.46</td>\n",
       "      <td>0.00</td>\n",
       "    </tr>\n",
       "    <tr>\n",
       "      <th>...</th>\n",
       "      <td>...</td>\n",
       "      <td>...</td>\n",
       "      <td>...</td>\n",
       "      <td>...</td>\n",
       "      <td>...</td>\n",
       "      <td>...</td>\n",
       "      <td>...</td>\n",
       "    </tr>\n",
       "    <tr>\n",
       "      <th>77</th>\n",
       "      <td>64</td>\n",
       "      <td>1</td>\n",
       "      <td>Pre</td>\n",
       "      <td>B</td>\n",
       "      <td>A</td>\n",
       "      <td>101.30</td>\n",
       "      <td>51.85</td>\n",
       "    </tr>\n",
       "    <tr>\n",
       "      <th>92</th>\n",
       "      <td>35</td>\n",
       "      <td>1</td>\n",
       "      <td>Pre</td>\n",
       "      <td>B</td>\n",
       "      <td>A</td>\n",
       "      <td>103.24</td>\n",
       "      <td>51.85</td>\n",
       "    </tr>\n",
       "    <tr>\n",
       "      <th>44</th>\n",
       "      <td>72</td>\n",
       "      <td>1</td>\n",
       "      <td>Post</td>\n",
       "      <td>A</td>\n",
       "      <td>B-</td>\n",
       "      <td>73.66</td>\n",
       "      <td>51.85</td>\n",
       "    </tr>\n",
       "    <tr>\n",
       "      <th>13</th>\n",
       "      <td>84</td>\n",
       "      <td>1</td>\n",
       "      <td>Post</td>\n",
       "      <td>A</td>\n",
       "      <td>A</td>\n",
       "      <td>94.17</td>\n",
       "      <td>55.56</td>\n",
       "    </tr>\n",
       "    <tr>\n",
       "      <th>47</th>\n",
       "      <td>23</td>\n",
       "      <td>1</td>\n",
       "      <td>Post</td>\n",
       "      <td>A</td>\n",
       "      <td>A</td>\n",
       "      <td>87.19</td>\n",
       "      <td>77.78</td>\n",
       "    </tr>\n",
       "  </tbody>\n",
       "</table>\n",
       "<p>147 rows × 7 columns</p>\n",
       "</div>"
      ],
      "text/plain": [
       "     Participant Code  Term  Test Instructor LetterGrade  PercentGrade  \\\n",
       "73                  3     1  Post          B           F         28.76   \n",
       "145                79     2   Pre          B          B+         86.68   \n",
       "75                 81     1  Post          B           A         93.88   \n",
       "81                 19     1   Pre          B           A         96.09   \n",
       "85                 44     1   Pre          B          C-         71.46   \n",
       "..                ...   ...   ...        ...         ...           ...   \n",
       "77                 64     1   Pre          B           A        101.30   \n",
       "92                 35     1   Pre          B           A        103.24   \n",
       "44                 72     1  Post          A          B-         73.66   \n",
       "13                 84     1  Post          A           A         94.17   \n",
       "47                 23     1  Post          A           A         87.19   \n",
       "\n",
       "     Test Score  \n",
       "73         0.00  \n",
       "145        0.00  \n",
       "75         0.00  \n",
       "81         0.00  \n",
       "85         0.00  \n",
       "..          ...  \n",
       "77        51.85  \n",
       "92        51.85  \n",
       "44        51.85  \n",
       "13        55.56  \n",
       "47        77.78  \n",
       "\n",
       "[147 rows x 7 columns]"
      ]
     },
     "execution_count": 78,
     "metadata": {},
     "output_type": "execute_result"
    }
   ],
   "source": [
    "data_file = pd.read_csv(\"new_data.csv\",skiprows=(2,1), usecols=(0,1,2,3,4,5,33))\n",
    "data = pd.DataFrame(data_file)\n",
    "data.sort_values(by=['Test Score'])"
   ]
  },
  {
   "cell_type": "markdown",
   "metadata": {},
   "source": [
    "## Analysis\n",
    "### Relationship between scores on the test and the final course grade (percentage)\n",
    "From the two scatter plots below, we can see that there was no direct relation between test scores and final percentage grades for the class as a whole. What we can verify is that there was an overall improvement in both test scores and percentage grades between the group of Pre test takers, and the group of Post test takers."
   ]
  },
  {
   "cell_type": "markdown",
   "metadata": {},
   "source": [
    "#### Relation between Pre Test Scores and Final Percent Grade"
   ]
  },
  {
   "cell_type": "code",
   "execution_count": 72,
   "metadata": {},
   "outputs": [
    {
     "data": {
      "image/png": "[encoded data removed]",
      "text/plain": [
       "<Figure size 432x288 with 1 Axes>"
      ]
     },
     "metadata": {
      "needs_background": "light"
     },
     "output_type": "display_data"
    }
   ],
   "source": [
    "data_pre = pd.DataFrame(data[(data['Test']==\"Pre\")])\n",
    "data_pre.drop_duplicates(subset =\"Participant Code\", keep = \"first\", inplace = True) \n",
    "scatter_plot = data_pre.plot.scatter(x='PercentGrade', y='Test Score')"
   ]
  },
  {
   "cell_type": "markdown",
   "metadata": {},
   "source": [
    "#### Relation between Post Test Scores and Final Percent Grade"
   ]
  },
  {
   "cell_type": "code",
   "execution_count": 73,
   "metadata": {},
   "outputs": [
    {
     "data": {
      "image/png": "[encoded data removed]",
      "text/plain": [
       "<Figure size 432x288 with 1 Axes>"
      ]
     },
     "metadata": {
      "needs_background": "light"
     },
     "output_type": "display_data"
    }
   ],
   "source": [
    "data_post = pd.DataFrame(data[(data['Test']==\"Post\")])\n",
    "data_post.drop_duplicates(subset =\"Participant Code\", keep = \"first\", inplace = True) \n",
    "scatter_plot = data_post.plot.scatter(x='PercentGrade', y='Test Score')"
   ]
  },
  {
   "cell_type": "markdown",
   "metadata": {},
   "source": [
    "## Analysis\n",
    "### Relationship between Pre and Post test scores\n",
    "From the graph below, we can see a clear improvement in average score between Pre tests and Post tests from the group of students who took both."
   ]
  },
  {
   "cell_type": "code",
   "execution_count": 74,
   "metadata": {},
   "outputs": [
    {
     "data": {
      "text/plain": [
       "<matplotlib.axes._subplots.AxesSubplot at 0x265190b8>"
      ]
     },
     "execution_count": 74,
     "metadata": {},
     "output_type": "execute_result"
    },
    {
     "data": {
      "image/png": "[encoded data removed]",
      "text/plain": [
       "<Figure size 432x288 with 1 Axes>"
      ]
     },
     "metadata": {
      "needs_background": "light"
     },
     "output_type": "display_data"
    }
   ],
   "source": [
    "codes_pre = data_pre['Participant Code'].to_numpy()\n",
    "codes_post = data_post['Participant Code'].to_numpy()\n",
    "codes_pre_ind = pd.Index(codes_pre)\n",
    "codes_post_ind = pd.Index(codes_post)\n",
    "codes = codes_pre_ind.intersection(codes_post_ind) #only student codes who took both tests\n",
    "\n",
    "pre_sc = data_pre[data_pre['Participant Code'].isin(codes)]\n",
    "post_sc = data_post[data_post['Participant Code'].isin(codes)]\n",
    "\n",
    "avgs = pd.DataFrame({'Pre Test': pre_sc['Test Score'].mean(),\n",
    "                   'Post Test': post_sc['Test Score'].mean()}, index=['Averages'])\n",
    "avgs.plot.bar()\n"
   ]
  },
  {
   "cell_type": "markdown",
   "metadata": {},
   "source": [
    "## Analysis\n",
    "### Relationship between Average Percent Grades\n",
    "From the graphs below, we can see there's a slight difference in average scores between instructors A and B, and between terms 1 and 2. We can also see by the third graph that the difference by instructor is not much more significant than the difference by term. It is also worth noting that Instructor A only taught in term 1, and instructor B taught both terms 1 and 2."
   ]
  },
  {
   "cell_type": "markdown",
   "metadata": {},
   "source": [
    "#### Relationship between Average Percent Grades between Instructors"
   ]
  },
  {
   "cell_type": "code",
   "execution_count": 75,
   "metadata": {},
   "outputs": [
    {
     "data": {
      "text/plain": [
       "<matplotlib.axes._subplots.AxesSubplot at 0x265532b0>"
      ]
     },
     "execution_count": 75,
     "metadata": {},
     "output_type": "execute_result"
    },
    {
     "data": {
      "image/png": "[encoded data removed]",
      "text/plain": [
       "<Figure size 432x288 with 1 Axes>"
      ]
     },
     "metadata": {
      "needs_background": "light"
     },
     "output_type": "display_data"
    }
   ],
   "source": [
    "inst_a =  pd.DataFrame(data[(data['Instructor']==\"A\")])\n",
    "inst_a_reduced = pd.DataFrame(inst_a[inst_a['Participant Code'].isin(codes)])\n",
    "inst_a_reduced.drop_duplicates(subset =\"Participant Code\", keep = \"first\", inplace = True) \n",
    "\n",
    "inst_b =  pd.DataFrame(data[(data['Instructor']==\"B\")])\n",
    "inst_b_reduced = pd.DataFrame(inst_b[inst_b['Participant Code'].isin(codes)])\n",
    "inst_b_reduced.drop_duplicates(subset =\"Participant Code\", keep = \"first\", inplace = True) \n",
    "\n",
    "avgs_inst = pd.DataFrame({'Instructor A': inst_a_reduced['PercentGrade'].mean(), 'Instructor B' : inst_b_reduced['PercentGrade'].mean()}, index=['Avg by Instructor'])\n",
    "avgs_inst.plot.bar()"
   ]
  },
  {
   "cell_type": "markdown",
   "metadata": {},
   "source": [
    "#### Relationship between Average Percent Grades between Terms"
   ]
  },
  {
   "cell_type": "code",
   "execution_count": 76,
   "metadata": {},
   "outputs": [
    {
     "data": {
      "text/plain": [
       "<matplotlib.axes._subplots.AxesSubplot at 0x2658d028>"
      ]
     },
     "execution_count": 76,
     "metadata": {},
     "output_type": "execute_result"
    },
    {
     "data": {
      "image/png": "[encoded data removed]",
      "text/plain": [
       "<Figure size 432x288 with 1 Axes>"
      ]
     },
     "metadata": {
      "needs_background": "light"
     },
     "output_type": "display_data"
    }
   ],
   "source": [
    "term_1 =  pd.DataFrame(data[(data['Term']==1)])\n",
    "term_1_reduced = pd.DataFrame(term_1[term_1['Participant Code'].isin(codes)])\n",
    "term_1_reduced.drop_duplicates(subset =\"Participant Code\", keep = \"first\", inplace = True) \n",
    "\n",
    "\n",
    "term_2 =  pd.DataFrame(data[(data['Term']==2)])\n",
    "term_2_reduced = pd.DataFrame(term_2[term_2['Participant Code'].isin(codes)])\n",
    "term_2_reduced.drop_duplicates(subset =\"Participant Code\", keep = \"first\", inplace = True) \n",
    "\n",
    "\n",
    "avgs_term = pd.DataFrame({'Term 1': term_1_reduced['PercentGrade'].mean(), 'Term 2' : term_2_reduced['PercentGrade'].mean()}, index=['Avg by Term'])\n",
    "avgs_term.plot.bar()"
   ]
  },
  {
   "cell_type": "markdown",
   "metadata": {},
   "source": [
    "#### Relationship between Difference in Averages by Instructor and by Term"
   ]
  },
  {
   "cell_type": "code",
   "execution_count": 77,
   "metadata": {},
   "outputs": [
    {
     "data": {
      "text/plain": [
       "<matplotlib.axes._subplots.AxesSubplot at 0x265addd8>"
      ]
     },
     "execution_count": 77,
     "metadata": {},
     "output_type": "execute_result"
    },
    {
     "data": {
      "image/png": "[encoded data removed]",
      "text/plain": [
       "<Figure size 432x288 with 1 Axes>"
      ]
     },
     "metadata": {
      "needs_background": "light"
     },
     "output_type": "display_data"
    }
   ],
   "source": [
    "by_inst = (inst_b_reduced['PercentGrade'].mean()/inst_a_reduced['PercentGrade'].mean())\n",
    "by_term = (term_2_reduced['PercentGrade'].mean()/term_1_reduced['PercentGrade'].mean())\n",
    "\n",
    "avgs_diff = pd.DataFrame({'Instructor': by_inst, 'Term': by_term}, index=['Difference (Times better)'])\n",
    "avgs_diff.plot.bar()"
   ]
  }
 ],
 "metadata": {
  "kernelspec": {
   "display_name": "Python 3.8.1 32-bit ('venv': venv)",
   "language": "python",
   "name": "python38132bitvenvvenv2bcdccd0f52a4c50930963d05e2e8f51"
  },
  "language_info": {
   "codemirror_mode": {
    "name": "ipython",
    "version": 3
   },
   "file_extension": ".py",
   "mimetype": "text/x-python",
   "name": "python",
   "nbconvert_exporter": "python",
   "pygments_lexer": "ipython3",
   "version": "3.8.1"
  }
 },
 "nbformat": 4,
 "nbformat_minor": 4
}
